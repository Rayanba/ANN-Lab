{
 "cells": [
  {
   "cell_type": "markdown",
   "metadata": {},
   "source": [
    "# Neural network Tuning"
   ]
  },
  {
   "cell_type": "code",
   "execution_count": 1,
   "metadata": {},
   "outputs": [],
   "source": [
    "# Importing necesary packages\n",
    "import numpy\n",
    "import pandas as pd\n",
    "from sklearn.model_selection import GridSearchCV \n",
    "from keras.models import Sequential\n",
    "from keras.layers import Dense\n",
    "import warnings\n",
    "warnings.filterwarnings('ignore')\n",
    "from keras.wrappers.scikit_learn import KerasClassifier\n",
    "import tensorflow as tf"
   ]
  },
  {
   "cell_type": "markdown",
   "metadata": {},
   "source": [
    "# part 1 - Tuning batch and epoch"
   ]
  },
  {
   "cell_type": "code",
   "execution_count": 2,
   "metadata": {},
   "outputs": [],
   "source": [
    "# load the dataset for India diabetes\n",
    "data = pd.read_csv('diabetes.csv')"
   ]
  },
  {
   "cell_type": "code",
   "execution_count": 3,
   "metadata": {},
   "outputs": [
    {
     "data": {
      "text/html": [
       "<div>\n",
       "<style scoped>\n",
       "    .dataframe tbody tr th:only-of-type {\n",
       "        vertical-align: middle;\n",
       "    }\n",
       "\n",
       "    .dataframe tbody tr th {\n",
       "        vertical-align: top;\n",
       "    }\n",
       "\n",
       "    .dataframe thead th {\n",
       "        text-align: right;\n",
       "    }\n",
       "</style>\n",
       "<table border=\"1\" class=\"dataframe\">\n",
       "  <thead>\n",
       "    <tr style=\"text-align: right;\">\n",
       "      <th></th>\n",
       "      <th>Pregnancies</th>\n",
       "      <th>Glucose</th>\n",
       "      <th>BloodPressure</th>\n",
       "      <th>SkinThickness</th>\n",
       "      <th>Insulin</th>\n",
       "      <th>BMI</th>\n",
       "      <th>DiabetesPedigreeFunction</th>\n",
       "      <th>Age</th>\n",
       "      <th>Outcome</th>\n",
       "    </tr>\n",
       "  </thead>\n",
       "  <tbody>\n",
       "    <tr>\n",
       "      <th>0</th>\n",
       "      <td>6</td>\n",
       "      <td>148</td>\n",
       "      <td>72</td>\n",
       "      <td>35</td>\n",
       "      <td>0</td>\n",
       "      <td>33.6</td>\n",
       "      <td>0.627</td>\n",
       "      <td>50</td>\n",
       "      <td>1</td>\n",
       "    </tr>\n",
       "    <tr>\n",
       "      <th>1</th>\n",
       "      <td>1</td>\n",
       "      <td>85</td>\n",
       "      <td>66</td>\n",
       "      <td>29</td>\n",
       "      <td>0</td>\n",
       "      <td>26.6</td>\n",
       "      <td>0.351</td>\n",
       "      <td>31</td>\n",
       "      <td>0</td>\n",
       "    </tr>\n",
       "    <tr>\n",
       "      <th>2</th>\n",
       "      <td>8</td>\n",
       "      <td>183</td>\n",
       "      <td>64</td>\n",
       "      <td>0</td>\n",
       "      <td>0</td>\n",
       "      <td>23.3</td>\n",
       "      <td>0.672</td>\n",
       "      <td>32</td>\n",
       "      <td>1</td>\n",
       "    </tr>\n",
       "    <tr>\n",
       "      <th>3</th>\n",
       "      <td>1</td>\n",
       "      <td>89</td>\n",
       "      <td>66</td>\n",
       "      <td>23</td>\n",
       "      <td>94</td>\n",
       "      <td>28.1</td>\n",
       "      <td>0.167</td>\n",
       "      <td>21</td>\n",
       "      <td>0</td>\n",
       "    </tr>\n",
       "    <tr>\n",
       "      <th>4</th>\n",
       "      <td>0</td>\n",
       "      <td>137</td>\n",
       "      <td>40</td>\n",
       "      <td>35</td>\n",
       "      <td>168</td>\n",
       "      <td>43.1</td>\n",
       "      <td>2.288</td>\n",
       "      <td>33</td>\n",
       "      <td>1</td>\n",
       "    </tr>\n",
       "  </tbody>\n",
       "</table>\n",
       "</div>"
      ],
      "text/plain": [
       "   Pregnancies  Glucose  BloodPressure  SkinThickness  Insulin   BMI  \\\n",
       "0            6      148             72             35        0  33.6   \n",
       "1            1       85             66             29        0  26.6   \n",
       "2            8      183             64              0        0  23.3   \n",
       "3            1       89             66             23       94  28.1   \n",
       "4            0      137             40             35      168  43.1   \n",
       "\n",
       "   DiabetesPedigreeFunction  Age  Outcome  \n",
       "0                     0.627   50        1  \n",
       "1                     0.351   31        0  \n",
       "2                     0.672   32        1  \n",
       "3                     0.167   21        0  \n",
       "4                     2.288   33        1  "
      ]
     },
     "execution_count": 3,
     "metadata": {},
     "output_type": "execute_result"
    }
   ],
   "source": [
    "#viewing data\n",
    "data.head()"
   ]
  },
  {
   "cell_type": "code",
   "execution_count": 4,
   "metadata": {},
   "outputs": [],
   "source": [
    "# split into predictors and response\n",
    "X = data.iloc[:,0:8] #predictors\n",
    "Y = data.iloc[:,8] #response"
   ]
  },
  {
   "cell_type": "code",
   "execution_count": 5,
   "metadata": {},
   "outputs": [],
   "source": [
    "# Function to create model,for KerasClassifier\n",
    "def create_my_model():\n",
    "    #defining my model\n",
    "    mymodel = Sequential()\n",
    "    mymodel.add(Dense(12, input_dim=8, activation='relu'))\n",
    "    mymodel.add(Dense(1, activation='sigmoid'))\n",
    "    \n",
    "    # Compile the model\n",
    "    mymodel.compile(loss='binary_crossentropy', optimizer='adam', metrics=['accuracy'])\n",
    "    return mymodel"
   ]
  },
  {
   "cell_type": "code",
   "execution_count": 6,
   "metadata": {},
   "outputs": [],
   "source": [
    "# create model\n",
    "model = KerasClassifier(build_fn=create_my_model)"
   ]
  },
  {
   "cell_type": "code",
   "execution_count": 7,
   "metadata": {},
   "outputs": [],
   "source": [
    "# define the grid search parameters\n",
    "batchSize = [10, 20, 40, 60, 80, 100]\n",
    "epochs = [10, 30, 50]"
   ]
  },
  {
   "cell_type": "code",
   "execution_count": 8,
   "metadata": {},
   "outputs": [
    {
     "name": "stdout",
     "output_type": "stream",
     "text": [
      "Epoch 1/30\n",
      "77/77 [==============================] - 0s 730us/step - loss: 27.8503 - accuracy: 0.6562\n",
      "Epoch 2/30\n",
      "77/77 [==============================] - 0s 755us/step - loss: 12.1085 - accuracy: 0.6016\n",
      "Epoch 3/30\n",
      "77/77 [==============================] - 0s 739us/step - loss: 3.7633 - accuracy: 0.6250\n",
      "Epoch 4/30\n",
      "77/77 [==============================] - 0s 766us/step - loss: 1.9450 - accuracy: 0.6393\n",
      "Epoch 5/30\n",
      "77/77 [==============================] - 0s 764us/step - loss: 1.6170 - accuracy: 0.6576\n",
      "Epoch 6/30\n",
      "77/77 [==============================] - 0s 766us/step - loss: 1.4680 - accuracy: 0.6471\n",
      "Epoch 7/30\n",
      "77/77 [==============================] - 0s 787us/step - loss: 1.3234 - accuracy: 0.6536\n",
      "Epoch 8/30\n",
      "77/77 [==============================] - 0s 770us/step - loss: 1.1910 - accuracy: 0.6445\n",
      "Epoch 9/30\n",
      "77/77 [==============================] - 0s 731us/step - loss: 1.1178 - accuracy: 0.6380\n",
      "Epoch 10/30\n",
      "77/77 [==============================] - 0s 711us/step - loss: 1.0105 - accuracy: 0.6510\n",
      "Epoch 11/30\n",
      "77/77 [==============================] - 0s 700us/step - loss: 1.1045 - accuracy: 0.6419\n",
      "Epoch 12/30\n",
      "77/77 [==============================] - 0s 714us/step - loss: 0.9263 - accuracy: 0.6471\n",
      "Epoch 13/30\n",
      "77/77 [==============================] - 0s 691us/step - loss: 0.9014 - accuracy: 0.6628\n",
      "Epoch 14/30\n",
      "77/77 [==============================] - 0s 743us/step - loss: 0.8661 - accuracy: 0.6406\n",
      "Epoch 15/30\n",
      "77/77 [==============================] - 0s 736us/step - loss: 0.8385 - accuracy: 0.6445\n",
      "Epoch 16/30\n",
      "77/77 [==============================] - 0s 709us/step - loss: 0.7963 - accuracy: 0.6510\n",
      "Epoch 17/30\n",
      "77/77 [==============================] - 0s 740us/step - loss: 0.8016 - accuracy: 0.6510\n",
      "Epoch 18/30\n",
      "77/77 [==============================] - 0s 741us/step - loss: 0.7855 - accuracy: 0.6471\n",
      "Epoch 19/30\n",
      "77/77 [==============================] - 0s 684us/step - loss: 0.7314 - accuracy: 0.6523\n",
      "Epoch 20/30\n",
      "77/77 [==============================] - 0s 722us/step - loss: 0.6974 - accuracy: 0.6536\n",
      "Epoch 21/30\n",
      "77/77 [==============================] - 0s 723us/step - loss: 0.7633 - accuracy: 0.6536\n",
      "Epoch 22/30\n",
      "77/77 [==============================] - 0s 739us/step - loss: 0.7196 - accuracy: 0.6680\n",
      "Epoch 23/30\n",
      "77/77 [==============================] - 0s 701us/step - loss: 0.6773 - accuracy: 0.6693\n",
      "Epoch 24/30\n",
      "77/77 [==============================] - 0s 726us/step - loss: 0.6756 - accuracy: 0.6797\n",
      "Epoch 25/30\n",
      "77/77 [==============================] - 0s 755us/step - loss: 0.6544 - accuracy: 0.6810\n",
      "Epoch 26/30\n",
      "77/77 [==============================] - 0s 777us/step - loss: 0.6478 - accuracy: 0.6654\n",
      "Epoch 27/30\n",
      "77/77 [==============================] - 0s 715us/step - loss: 0.6272 - accuracy: 0.6849\n",
      "Epoch 28/30\n",
      "77/77 [==============================] - 0s 750us/step - loss: 0.7023 - accuracy: 0.6341\n",
      "Epoch 29/30\n",
      "77/77 [==============================] - 0s 771us/step - loss: 0.6833 - accuracy: 0.6628\n",
      "Epoch 30/30\n",
      "77/77 [==============================] - 0s 779us/step - loss: 0.6320 - accuracy: 0.6940\n"
     ]
    }
   ],
   "source": [
    "parameter_grid = dict(batch_size=batchSize, epochs=epochs)\n",
    "\n",
    "\n",
    "mygrid = GridSearchCV(estimator=model, param_grid=parameter_grid, n_jobs=-1, cv=3)\n",
    "grid_result = mygrid.fit(X, Y)"
   ]
  },
  {
   "cell_type": "code",
   "execution_count": 9,
   "metadata": {},
   "outputs": [
    {
     "name": "stdout",
     "output_type": "stream",
     "text": [
      "Best: 0.678385 using {'batch_size': 10, 'epochs': 30}\n"
     ]
    }
   ],
   "source": [
    "# summarize results\n",
    "print(\"Best: %f using %s\" % (grid_result.best_score_, grid_result.best_params_))"
   ]
  },
  {
   "cell_type": "markdown",
   "metadata": {},
   "source": [
    "# part 2- Optimizing Activation Function"
   ]
  },
  {
   "cell_type": "code",
   "execution_count": 10,
   "metadata": {},
   "outputs": [],
   "source": [
    "# Function to create model\n",
    "def create_my_model(optimizer='adam'):\n",
    "    # create model\n",
    "    mymodel = Sequential()\n",
    "    mymodel.add(Dense(12, input_dim=8, activation='relu'))\n",
    "    mymodel.add(Dense(1, activation='sigmoid'))\n",
    "    # Compile model\n",
    "    mymodel.compile(loss='binary_crossentropy', optimizer=optimizer, metrics=['accuracy'])\n",
    "    return mymodel"
   ]
  },
  {
   "cell_type": "code",
   "execution_count": 11,
   "metadata": {},
   "outputs": [],
   "source": [
    "# create model\n",
    "model = KerasClassifier(build_fn=create_my_model, epochs=50, batch_size=10)"
   ]
  },
  {
   "cell_type": "code",
   "execution_count": 12,
   "metadata": {},
   "outputs": [],
   "source": [
    "# define the grid search parameters\n",
    "optimizer = ['SGD','Adadelta', 'RMSprop', 'Adagrad','Adam']\n",
    "parameter_grid = dict(optimizer=optimizer)"
   ]
  },
  {
   "cell_type": "code",
   "execution_count": 13,
   "metadata": {},
   "outputs": [
    {
     "name": "stdout",
     "output_type": "stream",
     "text": [
      "Epoch 1/50\n",
      "77/77 [==============================] - 0s 739us/step - loss: 47.0175 - accuracy: 0.3490\n",
      "Epoch 2/50\n",
      "77/77 [==============================] - 0s 760us/step - loss: 13.9116 - accuracy: 0.4297\n",
      "Epoch 3/50\n",
      "77/77 [==============================] - 0s 781us/step - loss: 2.7738 - accuracy: 0.6042\n",
      "Epoch 4/50\n",
      "77/77 [==============================] - 0s 689us/step - loss: 2.0255 - accuracy: 0.6211\n",
      "Epoch 5/50\n",
      "77/77 [==============================] - 0s 695us/step - loss: 1.4991 - accuracy: 0.6081\n",
      "Epoch 6/50\n",
      "77/77 [==============================] - 0s 760us/step - loss: 1.1669 - accuracy: 0.6341\n",
      "Epoch 7/50\n",
      "77/77 [==============================] - 0s 714us/step - loss: 0.9707 - accuracy: 0.6484\n",
      "Epoch 8/50\n",
      "77/77 [==============================] - 0s 731us/step - loss: 0.8765 - accuracy: 0.6367\n",
      "Epoch 9/50\n",
      "77/77 [==============================] - 0s 721us/step - loss: 0.8248 - accuracy: 0.6523\n",
      "Epoch 10/50\n",
      "77/77 [==============================] - 0s 722us/step - loss: 0.7923 - accuracy: 0.6549\n",
      "Epoch 11/50\n",
      "77/77 [==============================] - 0s 715us/step - loss: 0.7604 - accuracy: 0.6693\n",
      "Epoch 12/50\n",
      "77/77 [==============================] - 0s 723us/step - loss: 0.7464 - accuracy: 0.6510\n",
      "Epoch 13/50\n",
      "77/77 [==============================] - 0s 713us/step - loss: 0.7422 - accuracy: 0.6497\n",
      "Epoch 14/50\n",
      "77/77 [==============================] - 0s 692us/step - loss: 0.7125 - accuracy: 0.6602\n",
      "Epoch 15/50\n",
      "77/77 [==============================] - 0s 690us/step - loss: 0.7025 - accuracy: 0.6797\n",
      "Epoch 16/50\n",
      "77/77 [==============================] - 0s 659us/step - loss: 0.6931 - accuracy: 0.6641\n",
      "Epoch 17/50\n",
      "77/77 [==============================] - 0s 699us/step - loss: 0.7149 - accuracy: 0.6497\n",
      "Epoch 18/50\n",
      "77/77 [==============================] - 0s 698us/step - loss: 0.6958 - accuracy: 0.6615\n",
      "Epoch 19/50\n",
      "77/77 [==============================] - 0s 710us/step - loss: 0.6679 - accuracy: 0.6654\n",
      "Epoch 20/50\n",
      "77/77 [==============================] - 0s 728us/step - loss: 0.6626 - accuracy: 0.6628\n",
      "Epoch 21/50\n",
      "77/77 [==============================] - 0s 715us/step - loss: 0.6421 - accuracy: 0.6719\n",
      "Epoch 22/50\n",
      "77/77 [==============================] - 0s 727us/step - loss: 0.6397 - accuracy: 0.6758\n",
      "Epoch 23/50\n",
      "77/77 [==============================] - 0s 714us/step - loss: 0.6419 - accuracy: 0.6927\n",
      "Epoch 24/50\n",
      "77/77 [==============================] - 0s 708us/step - loss: 0.6409 - accuracy: 0.6849\n",
      "Epoch 25/50\n",
      "77/77 [==============================] - 0s 716us/step - loss: 0.6278 - accuracy: 0.6810\n",
      "Epoch 26/50\n",
      "77/77 [==============================] - 0s 724us/step - loss: 0.6205 - accuracy: 0.6914\n",
      "Epoch 27/50\n",
      "77/77 [==============================] - 0s 708us/step - loss: 0.6319 - accuracy: 0.6979\n",
      "Epoch 28/50\n",
      "77/77 [==============================] - 0s 694us/step - loss: 0.6052 - accuracy: 0.6862\n",
      "Epoch 29/50\n",
      "77/77 [==============================] - 0s 716us/step - loss: 0.6028 - accuracy: 0.6823\n",
      "Epoch 30/50\n",
      "77/77 [==============================] - 0s 722us/step - loss: 0.5952 - accuracy: 0.7174\n",
      "Epoch 31/50\n",
      "77/77 [==============================] - 0s 697us/step - loss: 0.5962 - accuracy: 0.7005\n",
      "Epoch 32/50\n",
      "77/77 [==============================] - 0s 707us/step - loss: 0.6027 - accuracy: 0.7057\n",
      "Epoch 33/50\n",
      "77/77 [==============================] - 0s 695us/step - loss: 0.5949 - accuracy: 0.6940\n",
      "Epoch 34/50\n",
      "77/77 [==============================] - 0s 712us/step - loss: 0.5999 - accuracy: 0.6953\n",
      "Epoch 35/50\n",
      "77/77 [==============================] - 0s 665us/step - loss: 0.6053 - accuracy: 0.6784\n",
      "Epoch 36/50\n",
      "77/77 [==============================] - 0s 700us/step - loss: 0.5879 - accuracy: 0.7161\n",
      "Epoch 37/50\n",
      "77/77 [==============================] - 0s 663us/step - loss: 0.5813 - accuracy: 0.6953\n",
      "Epoch 38/50\n",
      "77/77 [==============================] - 0s 690us/step - loss: 0.5858 - accuracy: 0.7031\n",
      "Epoch 39/50\n",
      "77/77 [==============================] - 0s 714us/step - loss: 0.5763 - accuracy: 0.7096\n",
      "Epoch 40/50\n",
      "77/77 [==============================] - 0s 687us/step - loss: 0.5768 - accuracy: 0.7161\n",
      "Epoch 41/50\n",
      "77/77 [==============================] - 0s 724us/step - loss: 0.6246 - accuracy: 0.6862\n",
      "Epoch 42/50\n",
      "77/77 [==============================] - 0s 731us/step - loss: 0.5784 - accuracy: 0.7070\n",
      "Epoch 43/50\n",
      "77/77 [==============================] - 0s 718us/step - loss: 0.5790 - accuracy: 0.7174\n",
      "Epoch 44/50\n",
      "77/77 [==============================] - 0s 689us/step - loss: 0.5831 - accuracy: 0.6992\n",
      "Epoch 45/50\n",
      "77/77 [==============================] - 0s 706us/step - loss: 0.5754 - accuracy: 0.7044\n",
      "Epoch 46/50\n",
      "77/77 [==============================] - 0s 716us/step - loss: 0.5747 - accuracy: 0.7070\n",
      "Epoch 47/50\n",
      "77/77 [==============================] - 0s 707us/step - loss: 0.5604 - accuracy: 0.7044\n",
      "Epoch 48/50\n",
      "77/77 [==============================] - 0s 749us/step - loss: 0.5822 - accuracy: 0.7148\n",
      "Epoch 49/50\n",
      "77/77 [==============================] - 0s 735us/step - loss: 0.5606 - accuracy: 0.7292\n",
      "Epoch 50/50\n",
      "77/77 [==============================] - 0s 768us/step - loss: 0.5673 - accuracy: 0.7122\n"
     ]
    }
   ],
   "source": [
    "grid = GridSearchCV(estimator=model, param_grid=parameter_grid, n_jobs=-1, cv=3)\n",
    "grid_result = grid.fit(X, Y)"
   ]
  },
  {
   "cell_type": "code",
   "execution_count": 14,
   "metadata": {},
   "outputs": [
    {
     "name": "stdout",
     "output_type": "stream",
     "text": [
      "Best: 0.677083 using {'optimizer': 'Adam'}\n"
     ]
    }
   ],
   "source": [
    "# summarize results\n",
    "print(\"Best: %f using %s\" % (grid_result.best_score_, grid_result.best_params_))"
   ]
  },
  {
   "cell_type": "markdown",
   "metadata": {},
   "source": [
    "# How can you improve accuracy of the model? "
   ]
  },
  {
   "cell_type": "code",
   "execution_count": 15,
   "metadata": {},
   "outputs": [],
   "source": [
    "# Function to create model\n",
    "def create_my_model(optimizer='adam'):\n",
    "    # create model\n",
    "    mymodel = Sequential()\n",
    "    mymodel.add(Dense(12, input_dim=8, activation='relu'))\n",
    "    mymodel.add(Dense(1, activation='sigmoid'))\n",
    "    # Compile model\n",
    "    mymodel.compile(loss='binary_crossentropy', optimizer=optimizer, metrics=['accuracy'])\n",
    "    return mymodel"
   ]
  },
  {
   "cell_type": "code",
   "execution_count": 16,
   "metadata": {},
   "outputs": [],
   "source": [
    "# create model\n",
    "model = KerasClassifier(build_fn=create_my_model, epochs=60, batch_size=20)"
   ]
  },
  {
   "cell_type": "code",
   "execution_count": 17,
   "metadata": {},
   "outputs": [],
   "source": [
    "# define the grid search parameters\n",
    "optimizer = ['SGD','Adadelta', 'RMSprop', 'Adagrad','Adam']\n",
    "parameter_grid = dict(optimizer=optimizer)"
   ]
  },
  {
   "cell_type": "code",
   "execution_count": 18,
   "metadata": {},
   "outputs": [],
   "source": [
    "# define the grid search parameters\n",
    "learn_rate = [0.001, 0.01, 0.1, 0.2, 0.3]\n",
    "momentum = [0.0, 0.2, 0.4, 0.6, 0.8, 0.9]"
   ]
  },
  {
   "cell_type": "code",
   "execution_count": 21,
   "metadata": {},
   "outputs": [
    {
     "name": "stdout",
     "output_type": "stream",
     "text": [
      "Epoch 1/60\n",
      "39/39 [==============================] - 0s 717us/step - loss: 24.9174 - accuracy: 0.4036\n",
      "Epoch 2/60\n",
      "39/39 [==============================] - 0s 682us/step - loss: 10.6781 - accuracy: 0.5547\n",
      "Epoch 3/60\n",
      "39/39 [==============================] - 0s 693us/step - loss: 6.1763 - accuracy: 0.6211\n",
      "Epoch 4/60\n",
      "39/39 [==============================] - 0s 702us/step - loss: 4.3576 - accuracy: 0.6094\n",
      "Epoch 5/60\n",
      "39/39 [==============================] - 0s 686us/step - loss: 3.6113 - accuracy: 0.6107\n",
      "Epoch 6/60\n",
      "39/39 [==============================] - 0s 760us/step - loss: 3.0392 - accuracy: 0.6003\n",
      "Epoch 7/60\n",
      "39/39 [==============================] - 0s 768us/step - loss: 2.5110 - accuracy: 0.5833\n",
      "Epoch 8/60\n",
      "39/39 [==============================] - 0s 790us/step - loss: 2.0789 - accuracy: 0.5781\n",
      "Epoch 9/60\n",
      "39/39 [==============================] - 0s 760us/step - loss: 1.7382 - accuracy: 0.5690\n",
      "Epoch 10/60\n",
      "39/39 [==============================] - 0s 681us/step - loss: 1.4915 - accuracy: 0.5664\n",
      "Epoch 11/60\n",
      "39/39 [==============================] - 0s 697us/step - loss: 1.3801 - accuracy: 0.5924\n",
      "Epoch 12/60\n",
      "39/39 [==============================] - 0s 656us/step - loss: 1.2715 - accuracy: 0.5872\n",
      "Epoch 13/60\n",
      "39/39 [==============================] - 0s 708us/step - loss: 1.1990 - accuracy: 0.5898\n",
      "Epoch 14/60\n",
      "39/39 [==============================] - 0s 656us/step - loss: 1.1174 - accuracy: 0.6055\n",
      "Epoch 15/60\n",
      "39/39 [==============================] - 0s 696us/step - loss: 1.0755 - accuracy: 0.6107\n",
      "Epoch 16/60\n",
      "39/39 [==============================] - 0s 682us/step - loss: 1.0786 - accuracy: 0.6133\n",
      "Epoch 17/60\n",
      "39/39 [==============================] - 0s 693us/step - loss: 1.0879 - accuracy: 0.6146\n",
      "Epoch 18/60\n",
      "39/39 [==============================] - 0s 682us/step - loss: 1.0123 - accuracy: 0.6263\n",
      "Epoch 19/60\n",
      "39/39 [==============================] - 0s 709us/step - loss: 0.9576 - accuracy: 0.6133\n",
      "Epoch 20/60\n",
      "39/39 [==============================] - 0s 709us/step - loss: 0.9541 - accuracy: 0.6068\n",
      "Epoch 21/60\n",
      "39/39 [==============================] - 0s 709us/step - loss: 0.9576 - accuracy: 0.6081\n",
      "Epoch 22/60\n",
      "39/39 [==============================] - 0s 694us/step - loss: 0.8980 - accuracy: 0.6549\n",
      "Epoch 23/60\n",
      "39/39 [==============================] - 0s 706us/step - loss: 0.8976 - accuracy: 0.6445\n",
      "Epoch 24/60\n",
      "39/39 [==============================] - 0s 709us/step - loss: 0.8706 - accuracy: 0.6432\n",
      "Epoch 25/60\n",
      "39/39 [==============================] - 0s 711us/step - loss: 0.8672 - accuracy: 0.6237\n",
      "Epoch 26/60\n",
      "39/39 [==============================] - 0s 656us/step - loss: 0.8461 - accuracy: 0.6615\n",
      "Epoch 27/60\n",
      "39/39 [==============================] - 0s 683us/step - loss: 0.8209 - accuracy: 0.6393\n",
      "Epoch 28/60\n",
      "39/39 [==============================] - 0s 701us/step - loss: 0.8441 - accuracy: 0.6510\n",
      "Epoch 29/60\n",
      "39/39 [==============================] - 0s 669us/step - loss: 0.8487 - accuracy: 0.6302\n",
      "Epoch 30/60\n",
      "39/39 [==============================] - 0s 728us/step - loss: 0.8163 - accuracy: 0.6393\n",
      "Epoch 31/60\n",
      "39/39 [==============================] - 0s 709us/step - loss: 0.7812 - accuracy: 0.6510\n",
      "Epoch 32/60\n",
      "39/39 [==============================] - 0s 696us/step - loss: 0.7789 - accuracy: 0.6471\n",
      "Epoch 33/60\n",
      "39/39 [==============================] - 0s 682us/step - loss: 0.7778 - accuracy: 0.6458\n",
      "Epoch 34/60\n",
      "39/39 [==============================] - 0s 709us/step - loss: 0.7760 - accuracy: 0.6432\n",
      "Epoch 35/60\n",
      "39/39 [==============================] - 0s 709us/step - loss: 0.7795 - accuracy: 0.6380\n",
      "Epoch 36/60\n",
      "39/39 [==============================] - 0s 696us/step - loss: 0.7565 - accuracy: 0.6562\n",
      "Epoch 37/60\n",
      "39/39 [==============================] - 0s 707us/step - loss: 0.7639 - accuracy: 0.6706\n",
      "Epoch 38/60\n",
      "39/39 [==============================] - 0s 682us/step - loss: 0.7273 - accuracy: 0.6523\n",
      "Epoch 39/60\n",
      "39/39 [==============================] - 0s 717us/step - loss: 0.7890 - accuracy: 0.6315\n",
      "Epoch 40/60\n",
      "39/39 [==============================] - 0s 709us/step - loss: 0.7467 - accuracy: 0.6654\n",
      "Epoch 41/60\n",
      "39/39 [==============================] - 0s 708us/step - loss: 0.7397 - accuracy: 0.6549\n",
      "Epoch 42/60\n",
      "39/39 [==============================] - 0s 684us/step - loss: 0.6976 - accuracy: 0.6628\n",
      "Epoch 43/60\n",
      "39/39 [==============================] - 0s 720us/step - loss: 0.7083 - accuracy: 0.6615\n",
      "Epoch 44/60\n",
      "39/39 [==============================] - 0s 688us/step - loss: 0.7081 - accuracy: 0.6628\n",
      "Epoch 45/60\n",
      "39/39 [==============================] - 0s 712us/step - loss: 0.7041 - accuracy: 0.6784\n",
      "Epoch 46/60\n",
      "39/39 [==============================] - 0s 722us/step - loss: 0.7428 - accuracy: 0.6562\n",
      "Epoch 47/60\n",
      "39/39 [==============================] - 0s 697us/step - loss: 0.6964 - accuracy: 0.6823\n",
      "Epoch 48/60\n",
      "39/39 [==============================] - 0s 699us/step - loss: 0.7361 - accuracy: 0.6536\n",
      "Epoch 49/60\n",
      "39/39 [==============================] - 0s 674us/step - loss: 0.7254 - accuracy: 0.6406\n",
      "Epoch 50/60\n",
      "39/39 [==============================] - 0s 730us/step - loss: 0.6812 - accuracy: 0.6862\n",
      "Epoch 51/60\n",
      "39/39 [==============================] - 0s 709us/step - loss: 0.6651 - accuracy: 0.6927\n",
      "Epoch 52/60\n",
      "39/39 [==============================] - 0s 709us/step - loss: 0.6470 - accuracy: 0.7083\n",
      "Epoch 53/60\n",
      "39/39 [==============================] - 0s 695us/step - loss: 0.6994 - accuracy: 0.6875\n",
      "Epoch 54/60\n",
      "39/39 [==============================] - 0s 788us/step - loss: 0.6296 - accuracy: 0.6979\n",
      "Epoch 55/60\n",
      "39/39 [==============================] - 0s 709us/step - loss: 0.6887 - accuracy: 0.6849\n",
      "Epoch 56/60\n",
      "39/39 [==============================] - 0s 708us/step - loss: 0.6603 - accuracy: 0.7031\n",
      "Epoch 57/60\n",
      "39/39 [==============================] - 0s 698us/step - loss: 0.6336 - accuracy: 0.6940\n",
      "Epoch 58/60\n",
      "39/39 [==============================] - 0s 682us/step - loss: 0.6368 - accuracy: 0.6836\n",
      "Epoch 59/60\n",
      "39/39 [==============================] - 0s 708us/step - loss: 0.6408 - accuracy: 0.6875\n",
      "Epoch 60/60\n",
      "39/39 [==============================] - 0s 697us/step - loss: 0.6466 - accuracy: 0.6875\n"
     ]
    }
   ],
   "source": [
    "grid = GridSearchCV(estimator=model, param_grid=parameter_grid, n_jobs=-1, cv=3)\n",
    "grid_result2 = grid.fit(X, Y)"
   ]
  },
  {
   "cell_type": "code",
   "execution_count": 22,
   "metadata": {},
   "outputs": [
    {
     "name": "stdout",
     "output_type": "stream",
     "text": [
      "Best: 0.688802 using {'optimizer': 'Adam'}\n"
     ]
    }
   ],
   "source": [
    "# summarize results\n",
    "print(\"Best: %f using %s\" % (grid_result2.best_score_, grid_result2.best_params_))"
   ]
  }
 ],
 "metadata": {
  "kernelspec": {
   "display_name": "Python 3 (ipykernel)",
   "language": "python",
   "name": "python3"
  },
  "language_info": {
   "codemirror_mode": {
    "name": "ipython",
    "version": 3
   },
   "file_extension": ".py",
   "mimetype": "text/x-python",
   "name": "python",
   "nbconvert_exporter": "python",
   "pygments_lexer": "ipython3",
   "version": "3.11.4"
  }
 },
 "nbformat": 4,
 "nbformat_minor": 2
}
